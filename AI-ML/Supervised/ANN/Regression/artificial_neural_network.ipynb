{
 "cells": [
  {
   "cell_type": "markdown",
   "metadata": {
    "colab_type": "text",
    "id": "3cbb7fRy-eyr"
   },
   "source": [
    "# Artificial Neural Network"
   ]
  },
  {
   "cell_type": "markdown",
   "metadata": {
    "colab_type": "text",
    "id": "8sNDnxE2-pwE"
   },
   "source": [
    "### Importing the libraries"
   ]
  },
  {
   "cell_type": "code",
   "execution_count": 1,
   "metadata": {
    "colab": {},
    "colab_type": "code",
    "id": "lxChR1Rk-umf"
   },
   "outputs": [],
   "source": [
    "import numpy as np\n",
    "import pandas as pd\n",
    "import tensorflow as tf"
   ]
  },
  {
   "cell_type": "code",
   "execution_count": 2,
   "metadata": {
    "colab": {
     "base_uri": "https://localhost:8080/",
     "height": 34
    },
    "colab_type": "code",
    "id": "uBTqR3nacj0e",
    "outputId": "4c0bd183-e424-429a-9fba-ceb841c06888"
   },
   "outputs": [
    {
     "data": {
      "text/plain": [
       "'2.0.0'"
      ]
     },
     "execution_count": 2,
     "metadata": {},
     "output_type": "execute_result"
    }
   ],
   "source": [
    "tf.__version__"
   ]
  },
  {
   "cell_type": "markdown",
   "metadata": {
    "colab_type": "text",
    "id": "AG3FQEch-yuA"
   },
   "source": [
    "## Part 1 - Data Preprocessing"
   ]
  },
  {
   "cell_type": "markdown",
   "metadata": {
    "colab_type": "text",
    "id": "-4zq8Mza_D9O"
   },
   "source": [
    "### Importing the dataset"
   ]
  },
  {
   "cell_type": "code",
   "execution_count": 3,
   "metadata": {
    "colab": {},
    "colab_type": "code",
    "id": "B9CV13Co_HHM"
   },
   "outputs": [],
   "source": [
    "dataset = pd.read_excel('Folds5x2_pp.xlsx')\n",
    "X = dataset.iloc[:, :-1].values\n",
    "y = dataset.iloc[:, -1].values"
   ]
  },
  {
   "cell_type": "code",
   "execution_count": 5,
   "metadata": {},
   "outputs": [
    {
     "name": "stdout",
     "output_type": "stream",
     "text": [
      "[[  14.96   41.76 1024.07   73.17]\n",
      " [  25.18   62.96 1020.04   59.08]\n",
      " [   5.11   39.4  1012.16   92.14]\n",
      " ...\n",
      " [  31.32   74.33 1012.92   36.48]\n",
      " [  24.48   69.45 1013.86   62.39]\n",
      " [  21.6    62.52 1017.23   67.87]]\n",
      "[463.26 444.37 488.56 ... 429.57 435.74 453.28]\n"
     ]
    }
   ],
   "source": [
    "print(X)\n",
    "print(y)"
   ]
  },
  {
   "cell_type": "markdown",
   "metadata": {
    "colab_type": "text",
    "id": "VC6omXel_Up0"
   },
   "source": [
    "### Splitting the dataset into the Training set and Test set"
   ]
  },
  {
   "cell_type": "code",
   "execution_count": 4,
   "metadata": {
    "colab": {},
    "colab_type": "code",
    "id": "L5edeb2r_agx"
   },
   "outputs": [],
   "source": [
    "from sklearn.model_selection import train_test_split\n",
    "X_train, X_test, y_train, y_test = train_test_split(X, y, test_size = 0.2, random_state = 0)"
   ]
  },
  {
   "cell_type": "markdown",
   "metadata": {
    "colab_type": "text",
    "id": "_mSLlAT9_eyI"
   },
   "source": [
    "## Part 2 - Building the ANN"
   ]
  },
  {
   "cell_type": "markdown",
   "metadata": {
    "colab_type": "text",
    "id": "CsBULd_f_wLY"
   },
   "source": [
    "### Initializing the ANN"
   ]
  },
  {
   "cell_type": "code",
   "execution_count": 6,
   "metadata": {
    "colab": {},
    "colab_type": "code",
    "id": "J6Hd97Ls__Nz"
   },
   "outputs": [],
   "source": [
    "ann = tf.keras.models.Sequential()"
   ]
  },
  {
   "cell_type": "markdown",
   "metadata": {
    "colab_type": "text",
    "id": "iitAFJS_ABUn"
   },
   "source": [
    "### Adding the input layer and the first hidden layer"
   ]
  },
  {
   "cell_type": "code",
   "execution_count": 7,
   "metadata": {
    "colab": {},
    "colab_type": "code",
    "id": "ksO_Vv40AHix"
   },
   "outputs": [],
   "source": [
    "ann.add(tf.keras.layers.Dense(units = 6, activation = 'relu'))"
   ]
  },
  {
   "cell_type": "markdown",
   "metadata": {
    "colab_type": "text",
    "id": "-lb4kK_wAKbs"
   },
   "source": [
    "### Adding the second hidden layer"
   ]
  },
  {
   "cell_type": "code",
   "execution_count": 8,
   "metadata": {
    "colab": {},
    "colab_type": "code",
    "id": "c2357OqEAQOQ"
   },
   "outputs": [],
   "source": [
    "ann.add(tf.keras.layers.Dense(units = 6, activation = 'relu'))"
   ]
  },
  {
   "cell_type": "markdown",
   "metadata": {
    "colab_type": "text",
    "id": "jwMOmKb3AdBY"
   },
   "source": [
    "### Adding the output layer"
   ]
  },
  {
   "cell_type": "code",
   "execution_count": 9,
   "metadata": {
    "colab": {},
    "colab_type": "code",
    "id": "YFATpzsUAkLL"
   },
   "outputs": [],
   "source": [
    "ann.add(tf.keras.layers.Dense(units = 1))"
   ]
  },
  {
   "cell_type": "markdown",
   "metadata": {
    "colab_type": "text",
    "id": "fq7e4fF6A1yy"
   },
   "source": [
    "## Part 3 - Training the ANN"
   ]
  },
  {
   "cell_type": "markdown",
   "metadata": {
    "colab_type": "text",
    "id": "qDeylAs2An25"
   },
   "source": [
    "### Compiling the ANN"
   ]
  },
  {
   "cell_type": "code",
   "execution_count": 10,
   "metadata": {
    "colab": {},
    "colab_type": "code",
    "id": "pesgbWlCAtB4"
   },
   "outputs": [],
   "source": [
    "ann.compile(optimizer = 'adam', loss = 'mean_squared_error')"
   ]
  },
  {
   "cell_type": "markdown",
   "metadata": {
    "colab_type": "text",
    "id": "YjVuiybYOo7r"
   },
   "source": [
    "### Training the ANN model on the Training set"
   ]
  },
  {
   "cell_type": "code",
   "execution_count": 11,
   "metadata": {
    "colab": {
     "base_uri": "https://localhost:8080/",
     "height": 1000
    },
    "colab_type": "code",
    "id": "c_vV-tiiA5zn",
    "outputId": "4a2b6ee6-ed75-4698-9069-b250e613803f"
   },
   "outputs": [
    {
     "name": "stdout",
     "output_type": "stream",
     "text": [
      "Train on 7654 samples\n",
      "Epoch 1/100\n",
      "7654/7654 [==============================] - 1s 152us/sample - loss: 12181.2910\n",
      "Epoch 2/100\n",
      "7654/7654 [==============================] - 0s 54us/sample - loss: 386.8362\n",
      "Epoch 3/100\n",
      "7654/7654 [==============================] - 0s 54us/sample - loss: 372.7908\n",
      "Epoch 4/100\n",
      "7654/7654 [==============================] - 0s 53us/sample - loss: 354.8879\n",
      "Epoch 5/100\n",
      "7654/7654 [==============================] - 0s 53us/sample - loss: 334.3140\n",
      "Epoch 6/100\n",
      "7654/7654 [==============================] - 0s 56us/sample - loss: 311.1978\n",
      "Epoch 7/100\n",
      "7654/7654 [==============================] - 0s 55us/sample - loss: 286.4625\n",
      "Epoch 8/100\n",
      "7654/7654 [==============================] - 0s 56us/sample - loss: 260.4999\n",
      "Epoch 9/100\n",
      "7654/7654 [==============================] - 0s 56us/sample - loss: 234.3526\n",
      "Epoch 10/100\n",
      "7654/7654 [==============================] - 0s 57us/sample - loss: 207.1673\n",
      "Epoch 11/100\n",
      "7654/7654 [==============================] - 0s 55us/sample - loss: 179.6534\n",
      "Epoch 12/100\n",
      "7654/7654 [==============================] - 0s 54us/sample - loss: 153.1763\n",
      "Epoch 13/100\n",
      "7654/7654 [==============================] - 0s 55us/sample - loss: 128.2009\n",
      "Epoch 14/100\n",
      "7654/7654 [==============================] - 0s 54us/sample - loss: 105.3420\n",
      "Epoch 15/100\n",
      "7654/7654 [==============================] - 0s 56us/sample - loss: 84.7774\n",
      "Epoch 16/100\n",
      "7654/7654 [==============================] - 0s 54us/sample - loss: 68.5004\n",
      "Epoch 17/100\n",
      "7654/7654 [==============================] - 0s 53us/sample - loss: 55.3591\n",
      "Epoch 18/100\n",
      "7654/7654 [==============================] - 0s 56us/sample - loss: 46.3234\n",
      "Epoch 19/100\n",
      "7654/7654 [==============================] - 0s 54us/sample - loss: 40.1094\n",
      "Epoch 20/100\n",
      "7654/7654 [==============================] - 0s 55us/sample - loss: 35.6613\n",
      "Epoch 21/100\n",
      "7654/7654 [==============================] - 0s 57us/sample - loss: 33.3047\n",
      "Epoch 22/100\n",
      "7654/7654 [==============================] - 0s 57us/sample - loss: 31.1556\n",
      "Epoch 23/100\n",
      "7654/7654 [==============================] - 0s 55us/sample - loss: 30.2150\n",
      "Epoch 24/100\n",
      "7654/7654 [==============================] - 0s 56us/sample - loss: 29.4142\n",
      "Epoch 25/100\n",
      "7654/7654 [==============================] - 0s 54us/sample - loss: 28.3846\n",
      "Epoch 26/100\n",
      "7654/7654 [==============================] - 0s 54us/sample - loss: 27.7598\n",
      "Epoch 27/100\n",
      "7654/7654 [==============================] - 0s 55us/sample - loss: 27.4434\n",
      "Epoch 28/100\n",
      "7654/7654 [==============================] - 0s 54us/sample - loss: 27.8727\n",
      "Epoch 29/100\n",
      "7654/7654 [==============================] - 0s 53us/sample - loss: 27.3864\n",
      "Epoch 30/100\n",
      "7654/7654 [==============================] - 0s 53us/sample - loss: 27.2384\n",
      "Epoch 31/100\n",
      "7654/7654 [==============================] - 0s 56us/sample - loss: 27.0705\n",
      "Epoch 32/100\n",
      "7654/7654 [==============================] - 0s 57us/sample - loss: 27.1178\n",
      "Epoch 33/100\n",
      "7654/7654 [==============================] - 0s 55us/sample - loss: 27.1502\n",
      "Epoch 34/100\n",
      "7654/7654 [==============================] - 0s 58us/sample - loss: 26.6711\n",
      "Epoch 35/100\n",
      "7654/7654 [==============================] - 0s 57us/sample - loss: 27.0439\n",
      "Epoch 36/100\n",
      "7654/7654 [==============================] - 0s 59us/sample - loss: 27.1477\n",
      "Epoch 37/100\n",
      "7654/7654 [==============================] - 0s 60us/sample - loss: 27.1895\n",
      "Epoch 38/100\n",
      "7654/7654 [==============================] - 0s 57us/sample - loss: 26.8825\n",
      "Epoch 39/100\n",
      "7654/7654 [==============================] - 0s 63us/sample - loss: 26.9767\n",
      "Epoch 40/100\n",
      "7654/7654 [==============================] - 0s 56us/sample - loss: 26.6119\n",
      "Epoch 41/100\n",
      "7654/7654 [==============================] - 0s 56us/sample - loss: 27.2706\n",
      "Epoch 42/100\n",
      "7654/7654 [==============================] - 0s 56us/sample - loss: 26.7915\n",
      "Epoch 43/100\n",
      "7654/7654 [==============================] - 0s 55us/sample - loss: 26.6354\n",
      "Epoch 44/100\n",
      "7654/7654 [==============================] - 0s 55us/sample - loss: 27.2322\n",
      "Epoch 45/100\n",
      "7654/7654 [==============================] - 0s 55us/sample - loss: 26.5456\n",
      "Epoch 46/100\n",
      "7654/7654 [==============================] - 0s 54us/sample - loss: 26.4337\n",
      "Epoch 47/100\n",
      "7654/7654 [==============================] - 0s 55us/sample - loss: 26.8838\n",
      "Epoch 48/100\n",
      "7654/7654 [==============================] - 0s 54us/sample - loss: 26.4390\n",
      "Epoch 49/100\n",
      "7654/7654 [==============================] - 0s 54us/sample - loss: 26.5816\n",
      "Epoch 50/100\n",
      "7654/7654 [==============================] - 0s 55us/sample - loss: 26.5920\n",
      "Epoch 51/100\n",
      "7654/7654 [==============================] - 0s 55us/sample - loss: 26.6782\n",
      "Epoch 52/100\n",
      "7654/7654 [==============================] - 0s 55us/sample - loss: 26.7366\n",
      "Epoch 53/100\n",
      "7654/7654 [==============================] - 0s 56us/sample - loss: 26.5413\n",
      "Epoch 54/100\n",
      "7654/7654 [==============================] - 0s 60us/sample - loss: 26.7400\n",
      "Epoch 55/100\n",
      "7654/7654 [==============================] - 0s 55us/sample - loss: 27.0028\n",
      "Epoch 56/100\n",
      "7654/7654 [==============================] - 0s 55us/sample - loss: 27.1219\n",
      "Epoch 57/100\n",
      "7654/7654 [==============================] - 0s 54us/sample - loss: 26.6957\n",
      "Epoch 58/100\n",
      "7654/7654 [==============================] - 0s 54us/sample - loss: 26.4592\n",
      "Epoch 59/100\n",
      "7654/7654 [==============================] - 0s 55us/sample - loss: 26.8368\n",
      "Epoch 60/100\n",
      "7654/7654 [==============================] - 0s 54us/sample - loss: 26.5185\n",
      "Epoch 61/100\n",
      "7654/7654 [==============================] - 0s 58us/sample - loss: 26.4410\n",
      "Epoch 62/100\n",
      "7654/7654 [==============================] - 0s 57us/sample - loss: 26.5441\n",
      "Epoch 63/100\n",
      "7654/7654 [==============================] - 0s 55us/sample - loss: 26.8293\n",
      "Epoch 64/100\n",
      "7654/7654 [==============================] - 0s 51us/sample - loss: 26.7155\n",
      "Epoch 65/100\n",
      "7654/7654 [==============================] - 0s 51us/sample - loss: 26.4648\n",
      "Epoch 66/100\n",
      "7654/7654 [==============================] - 0s 51us/sample - loss: 27.2839\n",
      "Epoch 67/100\n",
      "7654/7654 [==============================] - 0s 51us/sample - loss: 26.4767\n",
      "Epoch 68/100\n",
      "7654/7654 [==============================] - 0s 53us/sample - loss: 26.5217\n",
      "Epoch 69/100\n",
      "7654/7654 [==============================] - 0s 60us/sample - loss: 26.6793\n",
      "Epoch 70/100\n",
      "7654/7654 [==============================] - 0s 54us/sample - loss: 26.7221\n",
      "Epoch 71/100\n",
      "7654/7654 [==============================] - 0s 52us/sample - loss: 26.3524\n",
      "Epoch 72/100\n",
      "7654/7654 [==============================] - 0s 50us/sample - loss: 26.8503\n",
      "Epoch 73/100\n",
      "7654/7654 [==============================] - 0s 51us/sample - loss: 26.6586\n",
      "Epoch 74/100\n",
      "7654/7654 [==============================] - 0s 51us/sample - loss: 26.5992\n",
      "Epoch 75/100\n",
      "7654/7654 [==============================] - 0s 55us/sample - loss: 26.5403\n",
      "Epoch 76/100\n",
      "7654/7654 [==============================] - 0s 62us/sample - loss: 26.6562\n",
      "Epoch 77/100\n",
      "7654/7654 [==============================] - 0s 53us/sample - loss: 26.4222\n",
      "Epoch 78/100\n",
      "7654/7654 [==============================] - 0s 57us/sample - loss: 27.2900\n",
      "Epoch 79/100\n",
      "7654/7654 [==============================] - 0s 51us/sample - loss: 26.7415\n",
      "Epoch 80/100\n",
      "7654/7654 [==============================] - 0s 51us/sample - loss: 26.3627\n",
      "Epoch 81/100\n",
      "7654/7654 [==============================] - 0s 54us/sample - loss: 26.5205\n",
      "Epoch 82/100\n",
      "7654/7654 [==============================] - 0s 53us/sample - loss: 26.5696\n",
      "Epoch 83/100\n",
      "7654/7654 [==============================] - 0s 52us/sample - loss: 26.8292\n",
      "Epoch 84/100\n",
      "7654/7654 [==============================] - 0s 52us/sample - loss: 26.3639\n",
      "Epoch 85/100\n",
      "7654/7654 [==============================] - 0s 52us/sample - loss: 26.5708\n",
      "Epoch 86/100\n",
      "7654/7654 [==============================] - 0s 54us/sample - loss: 26.8992\n",
      "Epoch 87/100\n",
      "7654/7654 [==============================] - 0s 56us/sample - loss: 26.6753\n",
      "Epoch 88/100\n",
      "7654/7654 [==============================] - 0s 57us/sample - loss: 27.0727\n",
      "Epoch 89/100\n",
      "7654/7654 [==============================] - 0s 51us/sample - loss: 26.5589\n",
      "Epoch 90/100\n",
      "7654/7654 [==============================] - 0s 52us/sample - loss: 26.5126\n",
      "Epoch 91/100\n",
      "7654/7654 [==============================] - 0s 52us/sample - loss: 26.9977\n",
      "Epoch 92/100\n"
     ]
    },
    {
     "name": "stdout",
     "output_type": "stream",
     "text": [
      "7654/7654 [==============================] - 0s 53us/sample - loss: 26.6138\n",
      "Epoch 93/100\n",
      "7654/7654 [==============================] - 0s 50us/sample - loss: 26.4830\n",
      "Epoch 94/100\n",
      "7654/7654 [==============================] - 0s 51us/sample - loss: 27.2435\n",
      "Epoch 95/100\n",
      "7654/7654 [==============================] - 0s 50us/sample - loss: 26.9099\n",
      "Epoch 96/100\n",
      "7654/7654 [==============================] - 0s 52us/sample - loss: 26.7302\n",
      "Epoch 97/100\n",
      "7654/7654 [==============================] - 0s 60us/sample - loss: 26.6819\n",
      "Epoch 98/100\n",
      "7654/7654 [==============================] - 0s 52us/sample - loss: 26.2107\n",
      "Epoch 99/100\n",
      "7654/7654 [==============================] - 0s 52us/sample - loss: 27.1682\n",
      "Epoch 100/100\n",
      "7654/7654 [==============================] - 0s 54us/sample - loss: 26.7255\n"
     ]
    },
    {
     "data": {
      "text/plain": [
       "<tensorflow.python.keras.callbacks.History at 0x1a3f36f8d0>"
      ]
     },
     "execution_count": 11,
     "metadata": {},
     "output_type": "execute_result"
    }
   ],
   "source": [
    "ann.fit(X_train, y_train, batch_size = 32, epochs = 100)"
   ]
  },
  {
   "cell_type": "markdown",
   "metadata": {
    "colab_type": "text",
    "id": "0H0zKKNEBLD5"
   },
   "source": [
    "### Predicting the results of the Test set"
   ]
  },
  {
   "cell_type": "code",
   "execution_count": 12,
   "metadata": {
    "colab": {
     "base_uri": "https://localhost:8080/",
     "height": 134
    },
    "colab_type": "code",
    "id": "IA0yApEmBG1X",
    "outputId": "cb981e1f-9204-4a2a-fece-9d66a6919189"
   },
   "outputs": [
    {
     "data": {
      "text/plain": [
       "array([[430.89   ],\n",
       "       [461.8732 ],\n",
       "       [465.33667],\n",
       "       ...,\n",
       "       [472.58603],\n",
       "       [439.47174],\n",
       "       [458.6257 ]], dtype=float32)"
      ]
     },
     "execution_count": 12,
     "metadata": {},
     "output_type": "execute_result"
    }
   ],
   "source": [
    "ann.predict(X_test)"
   ]
  },
  {
   "cell_type": "code",
   "execution_count": 17,
   "metadata": {},
   "outputs": [
    {
     "data": {
      "text/plain": [
       "array([[430.89 , 431.23 ],\n",
       "       [461.873, 460.01 ],\n",
       "       [465.337, 461.14 ],\n",
       "       ...,\n",
       "       [472.586, 473.26 ],\n",
       "       [439.472, 438.   ],\n",
       "       [458.626, 463.28 ]])"
      ]
     },
     "execution_count": 17,
     "metadata": {},
     "output_type": "execute_result"
    }
   ],
   "source": [
    "y_pred = ann.predict(X_test)\n",
    "np.set_printoptions(precision = 3)\n",
    "np.concatenate( (y_pred.reshape(len(y_pred),1), y_test.reshape(len(y_test), 1)), axis = 1 )"
   ]
  }
 ],
 "metadata": {
  "colab": {
   "collapsed_sections": [],
   "name": "Artificial Neural Network",
   "provenance": [],
   "toc_visible": true
  },
  "kernelspec": {
   "display_name": "Python [conda env:py38TF2]",
   "language": "python",
   "name": "conda-env-py38TF2-py"
  },
  "language_info": {
   "codemirror_mode": {
    "name": "ipython",
    "version": 3
   },
   "file_extension": ".py",
   "mimetype": "text/x-python",
   "name": "python",
   "nbconvert_exporter": "python",
   "pygments_lexer": "ipython3",
   "version": "3.7.7"
  }
 },
 "nbformat": 4,
 "nbformat_minor": 1
}
